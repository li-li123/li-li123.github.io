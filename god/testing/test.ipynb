{
 "cells": [
  {
   "cell_type": "code",
   "execution_count": 36,
   "metadata": {},
   "outputs": [
    {
     "name": "stdout",
     "output_type": "stream",
     "text": [
      "True\n",
      "True\n",
      "True\n"
     ]
    }
   ],
   "source": [
    "param = [[1,2,8,9],\n",
    "        [2,4,9,12],\n",
    "        [4,7,10,12],\n",
    "        [6,8,11,12]]\n",
    "for i in range(len(param)):\n",
    "    for j in range(len(param[i])):\n",
    "        if param[i][j] == 12:\n",
    "            print(True)\n",
    "            break\n",
    "    else:\n",
    "        continue\n",
    "\n"
   ]
  },
  {
   "cell_type": "code",
   "execution_count": 2,
   "metadata": {},
   "outputs": [
    {
     "name": "stdout",
     "output_type": "stream",
     "text": [
      "\n",
      "aaaaaaaaa'''bbbbbbbbbb\"\"nnnnnnnn'kkkkkkkkkk\n",
      "eeeeeeeeeeeee\n"
     ]
    }
   ],
   "source": [
    "mess = \"\"\"\n",
    "aaaaaaaaa'''\n",
    "bbbbbbbbbb\"\"nnnnnnnn'kkkkkkkkkk\n",
    "eeeeeeeeeeeee\"\"\"\n",
    "print(mess)"
   ]
  }
 ],
 "metadata": {
  "kernelspec": {
   "display_name": "ml",
   "language": "python",
   "name": "python3"
  },
  "language_info": {
   "codemirror_mode": {
    "name": "ipython",
    "version": 3
   },
   "file_extension": ".py",
   "mimetype": "text/x-python",
   "name": "python",
   "nbconvert_exporter": "python",
   "pygments_lexer": "ipython3",
   "version": "3.10.9"
  },
  "orig_nbformat": 4
 },
 "nbformat": 4,
 "nbformat_minor": 2
}
